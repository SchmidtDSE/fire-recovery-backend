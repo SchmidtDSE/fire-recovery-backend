{
 "cells": [
  {
   "cell_type": "markdown",
   "metadata": {},
   "source": [
    "This code does a thing"
   ]
  },
  {
   "cell_type": "code",
   "execution_count": 1,
   "metadata": {},
   "outputs": [],
   "source": [
    "import rio_cogeo\n",
    "import rasterio\n",
    "import numpy as np"
   ]
  },
  {
   "cell_type": "markdown",
   "metadata": {},
   "source": [
    "Difference in file size for np.int8 vs np.int32:"
   ]
  },
  {
   "cell_type": "code",
   "execution_count": 2,
   "metadata": {},
   "outputs": [
    {
     "name": "stdout",
     "output_type": "stream",
     "text": [
      "Int8 COG size: 5.02 MB\n",
      "Int32 COG size: 7.12 MB\n",
      "Size ratio (int32/int8): 1.42x\n"
     ]
    },
    {
     "data": {
      "image/png": "[encoded data removed]",
      "text/plain": [
       "<Figure size 1000x500 with 1 Axes>"
      ]
     },
     "metadata": {},
     "output_type": "display_data"
    }
   ],
   "source": [
    "import os\n",
    "import numpy as np\n",
    "import rasterio\n",
    "from rasterio.transform import Affine\n",
    "import matplotlib.pyplot as plt\n",
    "from pathlib import Path\n",
    "from rio_cogeo.cogeo import cog_translate\n",
    "from rio_cogeo.profiles import cog_profiles\n",
    "\n",
    "# Set random seed for reproducibility\n",
    "np.random.seed(42)\n",
    "\n",
    "# Create a directory for our test files\n",
    "output_dir = Path(\"tmp\")\n",
    "output_dir.mkdir(exist_ok=True)\n",
    "\n",
    "# Create synthetic raster data (2000x2000 pixels)\n",
    "rows, cols = 2000, 2000\n",
    "data = np.random.randint(-128, 127, size=(rows, cols))\n",
    "\n",
    "# Create a temporary GeoTIFF to convert to COG\n",
    "temp_tif = output_dir / \"temp.tif\"\n",
    "\n",
    "# Define a simple geotransform\n",
    "transform = Affine(10, 0, 0, 0, -10, 0)  # 10m pixels\n",
    "\n",
    "# Function to save as temporary GeoTIFF with specified dtype\n",
    "def create_temp_tif(data, output_path, dtype):\n",
    "    profile = {\n",
    "        'driver': 'GTiff',\n",
    "        'height': data.shape[0],\n",
    "        'width': data.shape[1],\n",
    "        'count': 1,\n",
    "        'dtype': dtype,\n",
    "        'crs': 'EPSG:4326',\n",
    "        'transform': transform\n",
    "    }\n",
    "    \n",
    "    with rasterio.open(output_path, 'w', **profile) as dst:\n",
    "        dst.write(data.astype(dtype), 1)\n",
    "\n",
    "# Function to convert to COG with rio-cogeo\n",
    "def convert_to_cog(src_path, dst_path):\n",
    "    cog_profile = cog_profiles.get(\"deflate\")\n",
    "    cog_translate(src_path, dst_path, cog_profile, quiet=True)\n",
    "    return os.path.getsize(dst_path)\n",
    "\n",
    "# Test with int8 data type\n",
    "create_temp_tif(data, temp_tif, np.int8)\n",
    "int8_path = output_dir / \"raster_int8_cog.tif\"\n",
    "int8_size = convert_to_cog(temp_tif, int8_path)\n",
    "\n",
    "# Test with int32 data type\n",
    "create_temp_tif(data, temp_tif, np.int32) \n",
    "int32_path = output_dir / \"raster_int32_cog.tif\"\n",
    "int32_size = convert_to_cog(temp_tif, int32_path)\n",
    "\n",
    "# Clean up temp file\n",
    "if os.path.exists(temp_tif):\n",
    "    os.remove(temp_tif)\n",
    "\n",
    "# Report file sizes\n",
    "print(f\"Int8 COG size: {int8_size / 1024 / 1024:.2f} MB\")\n",
    "print(f\"Int32 COG size: {int32_size / 1024 / 1024:.2f} MB\")\n",
    "print(f\"Size ratio (int32/int8): {int32_size / int8_size:.2f}x\")\n",
    "\n",
    "# Plot comparison\n",
    "labels = ['int8', 'int32']\n",
    "sizes = [int8_size / 1024 / 1024, int32_size / 1024 / 1024]\n",
    "\n",
    "plt.figure(figsize=(10, 5))\n",
    "plt.bar(labels, sizes, color=['#5cb85c', '#d9534f'])\n",
    "plt.ylabel('File Size (MB)')\n",
    "plt.title('COG File Size Comparison by Data Type')\n",
    "plt.grid(axis='y', linestyle='--', alpha=0.7)\n",
    "\n",
    "for i, size in enumerate(sizes):\n",
    "    plt.text(i, size + 0.1, f\"{size:.2f} MB\", ha='center')\n",
    "\n",
    "plt.tight_layout()\n",
    "plt.show()"
   ]
  },
  {
   "cell_type": "code",
   "execution_count": 8,
   "metadata": {},
   "outputs": [
    {
     "name": "stdout",
     "output_type": "stream",
     "text": [
      "   Poly_ID MapUnit_ID                                       MapUnit_Name  \\\n",
      "0        1      10025  California Juniper / Blackbush Woodland Associ...   \n",
      "1        2      27031  Creosote Bush - White Bursage Shrubland Associ...   \n",
      "2        3      27034  Creosote Bush - White Bursage - White Rhatany ...   \n",
      "3        4      27034  Creosote Bush - White Bursage - White Rhatany ...   \n",
      "4        5      27045  Creosote Bush - White Bursage - Mojave Yucca S...   \n",
      "\n",
      "      X_Centroid    Y_Centroid       Acres   Hectares  SHAPE_Length  \\\n",
      "0  576114.408632  3.758601e+06    4.703791   1.903557    544.379601   \n",
      "1  592453.473849  3.750564e+06    2.077488   0.840730    401.724504   \n",
      "2  656492.468889  3.765693e+06    3.485286   1.410445   1279.356090   \n",
      "3  656720.121932  3.765627e+06    6.357370   2.572736   1995.108688   \n",
      "4  609388.031467  3.733959e+06  235.720562  95.392727   6848.340282   \n",
      "\n",
      "      SHAPE_Area                                           geometry  \n",
      "0   19035.568321  MULTIPOLYGON (((576099.841 3758532.4, 576084.3...  \n",
      "1    8407.297678  MULTIPOLYGON (((592520.591 3750558.295, 592519...  \n",
      "2   14104.450027  MULTIPOLYGON (((656685.514 3765864.966, 656679...  \n",
      "3   25727.362693  MULTIPOLYGON (((656926.234 3765840.206, 656920...  \n",
      "4  953927.271781  MULTIPOLYGON (((609325.76 3734554.42, 609259.3...  \n"
     ]
    }
   ],
   "source": [
    "import geopandas as gpd\n",
    "\n",
    "# Load the GeoPackage\n",
    "gdf = gpd.read_file('tmp/jotrgeodata.gpkg', layer= \"JOTR_VegPolys\")\n",
    "print(gdf.head())\n"
   ]
  },
  {
   "cell_type": "code",
   "execution_count": 12,
   "metadata": {},
   "outputs": [],
   "source": [
    "import numpy as np\n",
    "\n",
    "# Create unique integers\n",
    "unique_ids = gdf['MapUnit_ID'].unique()\n",
    "id_map = {id_: i for i, id_ in enumerate(unique_ids)}\n",
    "\n",
    "# Generate random colors or assign specific ones\n",
    "color_map = {id_: np.random.randint(0, 256, size=3).tolist() for id_ in unique_ids}\n",
    "\n",
    "# Add a new column for the integer values\n",
    "gdf['int_id'] = gdf['MapUnit_ID'].map(id_map)\n"
   ]
  },
  {
   "cell_type": "code",
   "execution_count": 13,
   "metadata": {},
   "outputs": [],
   "source": [
    "import rasterio\n",
    "from rasterio.features import rasterize\n",
    "from rasterio.transform import from_bounds\n",
    "\n",
    "# Define the output transform (raster bounds and resolution)\n",
    "bounds = gdf.total_bounds  \n",
    "transform = from_bounds(*bounds, width=1000, height=1000)  # Set desired width and height\n",
    "\n",
    "# Create a generator for rasterize\n",
    "shapes = ((geom, value) for geom, value in zip(gdf.geometry, gdf['int_id']))\n",
    "\n",
    "# Rasterize\n",
    "output_raster = rasterize(\n",
    "    shapes,\n",
    "    out_shape=(1000, 1000),  # Match with the transformation settings\n",
    "    fill=0,  # Default value for areas not covered by any geometry\n",
    "    transform=transform,\n",
    "    dtype=rasterio.uint8\n",
    ")\n"
   ]
  },
  {
   "cell_type": "code",
   "execution_count": 16,
   "metadata": {},
   "outputs": [
    {
     "name": "stderr",
     "output_type": "stream",
     "text": [
      "Reading input: /vsimem/47f10e1a-a7e8-4849-9dcc-3c4783212d91/47f10e1a-a7e8-4849-9dcc-3c4783212d91.tif\n",
      "\n",
      "Adding overviews...\n",
      "Updating dataset tags...\n",
      "Writing output to: output_cog.tif\n"
     ]
    }
   ],
   "source": [
    "from rio_cogeo.cogeo import cog_translate\n",
    "from rasterio.enums import Resampling\n",
    "from rasterio.io import MemoryFile\n",
    "\n",
    "# Save to an in-memory file first\n",
    "with MemoryFile() as memfile:\n",
    "    with memfile.open(\n",
    "        driver='GTiff',\n",
    "        height=output_raster.shape[0],\n",
    "        width=output_raster.shape[1],\n",
    "        count=1,  # Number of bands\n",
    "        dtype=rasterio.uint8,\n",
    "        crs=gdf.crs,  # Use the CRS from your source\n",
    "        transform=transform,\n",
    "    ) as dst:\n",
    "        dst.write(output_raster, 1)\n",
    "\n",
    "        # Assign a colormap (if you want to embed colors)\n",
    "        dst.write_colormap(\n",
    "            1, {i: tuple(color_map[uid]) for uid, i in id_map.items()}\n",
    "        )\n",
    "\n",
    "    # Translate to a COG\n",
    "    cog_translate(\n",
    "        memfile.name, \n",
    "        'output_cog.tif', \n",
    "        cog_profiles.get('deflate'),\n",
    "        nodata=0,\n",
    "        overview_resampling='nearest'  # Pass 'nearest' as a string\n",
    "    )\n"
   ]
  }
 ],
 "metadata": {
  "kernelspec": {
   "display_name": "default",
   "language": "python",
   "name": "python3"
  },
  "language_info": {
   "codemirror_mode": {
    "name": "ipython",
    "version": 3
   },
   "file_extension": ".py",
   "mimetype": "text/x-python",
   "name": "python",
   "nbconvert_exporter": "python",
   "pygments_lexer": "ipython3",
   "version": "3.12.10"
  }
 },
 "nbformat": 4,
 "nbformat_minor": 2
}
