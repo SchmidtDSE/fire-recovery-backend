{
 "cells": [
  {
   "cell_type": "code",
   "execution_count": 5,
   "id": "2d846e5a",
   "metadata": {},
   "outputs": [],
   "source": [
    "import sys\n",
    "import rustac\n",
    "\n",
    "sys.path.append(\"..\")"
   ]
  },
  {
   "cell_type": "code",
   "execution_count": 8,
   "id": "0b8e9dfe",
   "metadata": {},
   "outputs": [],
   "source": [
    "PARQUET_PATH = (\n",
    "    \"/workspaces/fire-recovery-backend/tmp/stac_geoparquet/fire_recovery_stac.parquet\"\n",
    ")"
   ]
  },
  {
   "cell_type": "code",
   "execution_count": 9,
   "id": "43ff6e1c",
   "metadata": {},
   "outputs": [],
   "source": [
    "tst_item = await rustac.search(\n",
    "    PARQUET_PATH,\n",
    "    filter={\n",
    "        \"op\": \"=\",\n",
    "        \"args\": [{\"property\": \"properties.fire_event_name\"}, \"Not a Fire\"],\n",
    "    },\n",
    ")"
   ]
  },
  {
   "cell_type": "code",
   "execution_count": 10,
   "id": "a5922526",
   "metadata": {},
   "outputs": [
    {
     "data": {
      "text/plain": [
       "[]"
      ]
     },
     "execution_count": 10,
     "metadata": {},
     "output_type": "execute_result"
    }
   ],
   "source": [
    "tst_item\n"
   ]
  },
  {
   "cell_type": "code",
   "execution_count": 13,
   "id": "eccedeb3",
   "metadata": {},
   "outputs": [],
   "source": [
    "tst_item_for_real = await rustac.search(\n",
    "    PARQUET_PATH, ids=[\"tst2_existing-severity-bdd18684-518c-491a-b274-86cb532568a3\"]\n",
    ")"
   ]
  },
  {
   "cell_type": "code",
   "execution_count": 14,
   "id": "3e37f616",
   "metadata": {},
   "outputs": [
    {
     "data": {
      "text/plain": [
       "[{'stac_version': '1.1.0',\n",
       "  'id': 'tst2_existing-severity-bdd18684-518c-491a-b274-86cb532568a3',\n",
       "  'geometry': {'type': 'Polygon',\n",
       "   'coordinates': [[[-116.098276, 33.929925],\n",
       "     [-116.098276, 33.880794],\n",
       "     [-116.019318, 33.880794],\n",
       "     [-116.019318, 33.929925],\n",
       "     [-116.098276, 33.929925]]]},\n",
       "  'bbox': [-116.098276, 33.880794, -116.019318, 33.929925],\n",
       "  'links': [{'href': 'https://storage.googleapis.com/fire-recovery-store/stac/tst2_existing/items/tst2_existing-severity-bdd18684-518c-491a-b274-86cb532568a3.json',\n",
       "    'rel': 'self',\n",
       "    'type': 'application/json'}],\n",
       "  'assets': {'rbr': {'href': 'https://storage.googleapis.com/fire-recovery-store/tst2_existing/bdd18684-518c-491a-b274-86cb532568a3/rbr.tif',\n",
       "    'title': 'Relativized Burn Ratio (RBR)',\n",
       "    'type': 'image/tiff; application=geotiff; profile=cloud-optimized',\n",
       "    'roles': ['data']}},\n",
       "  'properties': {'boundary_type': 'coarse',\n",
       "   'product_type': 'fire_severity',\n",
       "   'datetime': '2025-05-11T23:08:46+00:00',\n",
       "   'fire_event_name': 'tst2_existing',\n",
       "   'job_id': 'bdd18684-518c-491a-b274-86cb532568a3',\n",
       "   'filename': '/workspaces/fire-recovery-backend/tmp/stac_geoparquet/fire_recovery_stac.parquet'}}]"
      ]
     },
     "execution_count": 14,
     "metadata": {},
     "output_type": "execute_result"
    }
   ],
   "source": [
    "tst_item_for_real"
   ]
  },
  {
   "cell_type": "markdown",
   "id": "0e55c5d1",
   "metadata": {},
   "source": [
    "Now, try to get it by fire event name"
   ]
  },
  {
   "cell_type": "code",
   "execution_count": 22,
   "id": "87131b86",
   "metadata": {},
   "outputs": [
    {
     "data": {
      "text/plain": [
       "[{'stac_version': '1.1.0',\n",
       "  'id': 'tst2_existing-severity-bdd18684-518c-491a-b274-86cb532568a3',\n",
       "  'geometry': {'type': 'Polygon',\n",
       "   'coordinates': [[[-116.098276, 33.929925],\n",
       "     [-116.098276, 33.880794],\n",
       "     [-116.019318, 33.880794],\n",
       "     [-116.019318, 33.929925],\n",
       "     [-116.098276, 33.929925]]]},\n",
       "  'bbox': [-116.098276, 33.880794, -116.019318, 33.929925],\n",
       "  'links': [{'href': 'https://storage.googleapis.com/fire-recovery-store/stac/tst2_existing/items/tst2_existing-severity-bdd18684-518c-491a-b274-86cb532568a3.json',\n",
       "    'rel': 'self',\n",
       "    'type': 'application/json'}],\n",
       "  'assets': {'rbr': {'href': 'https://storage.googleapis.com/fire-recovery-store/tst2_existing/bdd18684-518c-491a-b274-86cb532568a3/rbr.tif',\n",
       "    'title': 'Relativized Burn Ratio (RBR)',\n",
       "    'type': 'image/tiff; application=geotiff; profile=cloud-optimized',\n",
       "    'roles': ['data']}},\n",
       "  'properties': {'boundary_type': 'coarse',\n",
       "   'product_type': 'fire_severity',\n",
       "   'datetime': '2025-05-11T23:08:46+00:00',\n",
       "   'fire_event_name': 'tst2_existing',\n",
       "   'job_id': 'bdd18684-518c-491a-b274-86cb532568a3',\n",
       "   'filename': '/workspaces/fire-recovery-backend/tmp/stac_geoparquet/fire_recovery_stac.parquet'}}]"
      ]
     },
     "execution_count": 22,
     "metadata": {},
     "output_type": "execute_result"
    }
   ],
   "source": [
    "tst_item_for_by_name = await rustac.search(\n",
    "    PARQUET_PATH,\n",
    "    filter={ \n",
    "      \"op\": \"=\",\n",
    "      \"args\": [{\"property\": \"fire_event_name\"}, \"tst2_existing\"]},\n",
    ")\n",
    "tst_item_for_by_name"
   ]
  },
  {
   "cell_type": "code",
   "execution_count": 24,
   "id": "aa1abd6c",
   "metadata": {},
   "outputs": [],
   "source": [
    "tst_stac = await rustac.read(\n",
    "    PARQUET_PATH\n",
    ")"
   ]
  },
  {
   "cell_type": "code",
   "execution_count": 27,
   "id": "470662f2",
   "metadata": {},
   "outputs": [
    {
     "data": {
      "text/plain": [
       "[{'type': 'Feature',\n",
       "  'stac_version': '1.1.0',\n",
       "  'id': 'tst2_existing-severity-bdd18684-518c-491a-b274-86cb532568a3',\n",
       "  'geometry': {'type': 'Polygon',\n",
       "   'coordinates': [[[-116.098276, 33.929925],\n",
       "     [-116.098276, 33.880794],\n",
       "     [-116.019318, 33.880794],\n",
       "     [-116.019318, 33.929925],\n",
       "     [-116.098276, 33.929925]]]},\n",
       "  'bbox': (-116.098276, 33.880794, -116.019318, 33.929925),\n",
       "  'properties': {'datetime': '2025-05-11T23:08:46Z',\n",
       "   'boundary_type': 'coarse',\n",
       "   'product_type': 'fire_severity',\n",
       "   'fire_event_name': 'tst2_existing',\n",
       "   'job_id': 'bdd18684-518c-491a-b274-86cb532568a3'},\n",
       "  'links': [{'href': 'https://storage.googleapis.com/fire-recovery-store/stac/tst2_existing/items/tst2_existing-severity-bdd18684-518c-491a-b274-86cb532568a3.json',\n",
       "    'rel': 'self',\n",
       "    'type': 'application/json'}],\n",
       "  'assets': {'rbr': {'href': 'https://storage.googleapis.com/fire-recovery-store/tst2_existing/bdd18684-518c-491a-b274-86cb532568a3/rbr.tif',\n",
       "    'title': 'Relativized Burn Ratio (RBR)',\n",
       "    'type': 'image/tiff; application=geotiff; profile=cloud-optimized',\n",
       "    'roles': ['data']}}}]"
      ]
     },
     "execution_count": 27,
     "metadata": {},
     "output_type": "execute_result"
    }
   ],
   "source": [
    "tst_stac['features']\n"
   ]
  }
 ],
 "metadata": {
  "kernelspec": {
   "display_name": "default",
   "language": "python",
   "name": "python3"
  },
  "language_info": {
   "codemirror_mode": {
    "name": "ipython",
    "version": 3
   },
   "file_extension": ".py",
   "mimetype": "text/x-python",
   "name": "python",
   "nbconvert_exporter": "python",
   "pygments_lexer": "ipython3",
   "version": "3.12.10"
  }
 },
 "nbformat": 4,
 "nbformat_minor": 5
}
