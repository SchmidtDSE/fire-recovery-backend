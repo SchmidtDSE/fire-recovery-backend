{
 "cells": [
  {
   "cell_type": "code",
   "execution_count": 1,
   "id": "7c73ceb3",
   "metadata": {},
   "outputs": [],
   "source": [
    "import sys\n",
    "sys.path.append(\"..\")  # Adjust the path to import from the parent directory"
   ]
  },
  {
   "cell_type": "code",
   "execution_count": 2,
   "id": "fec46198",
   "metadata": {},
   "outputs": [],
   "source": [
    "import src.msgspec_geojson as msgspec_geojson\n",
    "from src.app import ProcessingRequest\n",
    "from src.process import process_remote_sensing_data\n",
    "import asyncio\n",
    "import uuid\n",
    "import json \n",
    "\n",
    "# Create a simple polygon\n",
    "geometry_json = {\n",
    "      \"type\": \"Feature\",\n",
    "      \"properties\": {},\n",
    "      \"geometry\": {\n",
    "        \"coordinates\": [\n",
    "          [\n",
    "            [\n",
    "              -116.07846322825276,\n",
    "              33.92840733251654\n",
    "            ],\n",
    "            [\n",
    "              -116.07846322825276,\n",
    "              33.87821772335607\n",
    "            ],\n",
    "            [\n",
    "              -116.01143420678488,\n",
    "              33.87821772335607\n",
    "            ],\n",
    "            [\n",
    "              -116.01143420678488,\n",
    "              33.92840733251654\n",
    "            ],\n",
    "            [\n",
    "              -116.07846322825276,\n",
    "              33.92840733251654\n",
    "            ]\n",
    "          ]\n",
    "        ],\n",
    "        \"type\": \"Polygon\"\n",
    "      }\n",
    "}\n",
    "\n",
    "# Create a valid processing request\n",
    "request = ProcessingRequest(\n",
    "    geometry=geometry_json,\n",
    "    prefire_date_range=[\"2023-01-01\", \"2023-03-31\"],\n",
    "    postfire_date_range=[\"2023-04-01\", \"2023-06-30\"]\n",
    ")\n",
    "\n",
    "# Convert dict to JSON string before passing to loads\n",
    "geometry = msgspec_geojson.loads(json.dumps(request.geometry))\n",
    "\n",
    "\n",
    "# Test the process function directly\n",
    "def test_processing():\n",
    "    job_id = str(uuid.uuid4())\n",
    "    stac_url = \"https://earth-search.aws.element84.com/v1/\"\n",
    "    \n",
    "    result = process_remote_sensing_data(\n",
    "        job_id, \n",
    "        stac_url, \n",
    "        request.geometry, \n",
    "        request.prefire_date_range, \n",
    "        request.postfire_date_range\n",
    "    )\n",
    "    \n",
    "    return result\n"
   ]
  },
  {
   "cell_type": "code",
   "execution_count": 3,
   "id": "ddd8b45f",
   "metadata": {},
   "outputs": [
    {
     "name": "stderr",
     "output_type": "stream",
     "text": [
      "/workspaces/fire-recovery-backend/.pixi/envs/default/lib/python3.12/site-packages/pystac_client/item_search.py:896: FutureWarning: get_all_items() is deprecated, use item_collection() instead.\n",
      "  warnings.warn(\n"
     ]
    },
    {
     "name": "stdout",
     "output_type": "stream",
     "text": [
      "{'status': \"error: 'dict' object has no attribute 'bbox'\"}\n"
     ]
    }
   ],
   "source": [
    "# Run the test (note: this will make actual external API calls)\n",
    "result = test_processing()\n",
    "print(result)"
   ]
  }
 ],
 "metadata": {
  "kernelspec": {
   "display_name": "default",
   "language": "python",
   "name": "python3"
  },
  "language_info": {
   "codemirror_mode": {
    "name": "ipython",
    "version": 3
   },
   "file_extension": ".py",
   "mimetype": "text/x-python",
   "name": "python",
   "nbconvert_exporter": "python",
   "pygments_lexer": "ipython3",
   "version": "3.12.10"
  }
 },
 "nbformat": 4,
 "nbformat_minor": 5
}
