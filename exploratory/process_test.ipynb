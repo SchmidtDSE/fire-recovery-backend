{
 "cells": [
  {
   "cell_type": "code",
   "execution_count": 1,
   "id": "7c73ceb3",
   "metadata": {},
   "outputs": [],
   "source": [
    "import sys\n",
    "sys.path.append(\"..\")  # Adjust the path to import from the parent directory"
   ]
  },
  {
   "cell_type": "code",
   "execution_count": null,
   "id": "fec46198",
   "metadata": {},
   "outputs": [
    {
     "ename": "TypeError",
     "evalue": "a bytes-like object is required, not 'dict'",
     "output_type": "error",
     "traceback": [
      "\u001b[31m---------------------------------------------------------------------------\u001b[39m",
      "\u001b[31mTypeError\u001b[39m                                 Traceback (most recent call last)",
      "\u001b[36mCell\u001b[39m\u001b[36m \u001b[39m\u001b[32mIn[8]\u001b[39m\u001b[32m, line 47\u001b[39m\n\u001b[32m     40\u001b[39m \u001b[38;5;66;03m# Create a valid processing request\u001b[39;00m\n\u001b[32m     41\u001b[39m request = ProcessingRequest(\n\u001b[32m     42\u001b[39m     geometry=geometry_json,\n\u001b[32m     43\u001b[39m     prefire_date_range=[\u001b[33m\"\u001b[39m\u001b[33m2023-01-01\u001b[39m\u001b[33m\"\u001b[39m, \u001b[33m\"\u001b[39m\u001b[33m2023-03-31\u001b[39m\u001b[33m\"\u001b[39m],\n\u001b[32m     44\u001b[39m     postfire_date_range=[\u001b[33m\"\u001b[39m\u001b[33m2023-04-01\u001b[39m\u001b[33m\"\u001b[39m, \u001b[33m\"\u001b[39m\u001b[33m2023-06-30\u001b[39m\u001b[33m\"\u001b[39m]\n\u001b[32m     45\u001b[39m )\n\u001b[32m---> \u001b[39m\u001b[32m47\u001b[39m geometry = \u001b[43mmsgspec_geojson\u001b[49m\u001b[43m.\u001b[49m\u001b[43mloads\u001b[49m\u001b[43m(\u001b[49m\u001b[43mrequest\u001b[49m\u001b[43m.\u001b[49m\u001b[43mgeometry\u001b[49m\u001b[43m)\u001b[49m\n\u001b[32m     49\u001b[39m \u001b[38;5;66;03m# Test the process function directly\u001b[39;00m\n\u001b[32m     50\u001b[39m \u001b[38;5;28;01mdef\u001b[39;00m\u001b[38;5;250m \u001b[39m\u001b[34mtest_processing\u001b[39m():\n",
      "\u001b[31mTypeError\u001b[39m: a bytes-like object is required, not 'dict'"
     ]
    }
   ],
   "source": [
    "import src.msgspec_geojson as msgspec_geojson\n",
    "from src.app import ProcessingRequest\n",
    "from src.process import process_remote_sensing_data\n",
    "import asyncio\n",
    "import uuid\n",
    "import json\n",
    "\n",
    "# Create a simple polygon\n",
    "geometry_json = {\n",
    "  \"type\": \"Polygon\",\n",
    "  \"coordinates\": [\n",
    "    [\n",
    "      [-116.07846322825276, 33.92840733251654],\n",
    "      [-116.07846322825276, 33.87821772335607],\n",
    "      [-116.01143420678488, 33.87821772335607],\n",
    "      [-116.01143420678488, 33.92840733251654],\n",
    "      [-116.07846322825276, 33.92840733251654]\n",
    "    ]\n",
    "  ]\n",
    "}\n",
    "\n",
    "# Create a valid processing request\n",
    "request = ProcessingRequest(\n",
    "    geometry=geometry_json,\n",
    "    prefire_date_range=[\"2023-01-01\", \"2023-03-31\"],\n",
    "    postfire_date_range=[\"2023-04-01\", \"2023-06-30\"]\n",
    ")\n",
    "\n",
    "geometry = msgspec_geojson.loads(json.dumps(request.geometry).encode())\n",
    "\n",
    "# Test the process function directly\n",
    "def test_processing():\n",
    "    job_id = str(uuid.uuid4())\n",
    "    stac_url = \"https://earth-search.aws.element84.com/v1/\"\n",
    "    \n",
    "    result = process_remote_sensing_data(\n",
    "        job_id, \n",
    "        stac_url, \n",
    "        request.geometry, \n",
    "        request.prefire_date_range, \n",
    "        request.postfire_date_range\n",
    "    )\n",
    "    \n",
    "    return result\n"
   ]
  },
  {
   "cell_type": "code",
   "execution_count": null,
   "id": "ddd8b45f",
   "metadata": {},
   "outputs": [],
   "source": [
    "# Run the test (note: this will make actual external API calls)\n",
    "result = test_processing()\n",
    "print(result)"
   ]
  }
 ],
 "metadata": {
  "kernelspec": {
   "display_name": "default",
   "language": "python",
   "name": "python3"
  },
  "language_info": {
   "codemirror_mode": {
    "name": "ipython",
    "version": 3
   },
   "file_extension": ".py",
   "mimetype": "text/x-python",
   "name": "python",
   "nbconvert_exporter": "python",
   "pygments_lexer": "ipython3",
   "version": "3.12.10"
  }
 },
 "nbformat": 4,
 "nbformat_minor": 5
}
